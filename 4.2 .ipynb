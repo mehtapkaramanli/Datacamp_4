{
 "cells": [
  {
   "cell_type": "code",
   "execution_count": null,
   "metadata": {},
   "outputs": [],
   "source": [
    "1. soru (EMIN DEGILIM)\n",
    "Avantajları \n",
    "• “tüm gerçekliği” yansıtır. \n",
    "• Ortamdaki çok farklı faktörlerin anlaşılmasını sağlar. \n",
    "• Araştırma sonuçlarının uygulanabilirliği daha yüksektir. \n",
    "Dezavantajları \n",
    "• yaşanan deneyimlerin olduğu gibi ifade etmeleri zordur. \n",
    "• Verilerin analizinde bireylerin sahip oldukları önyargı da yer alır.\n"
   ]
  },
  {
   "cell_type": "markdown",
   "metadata": {},
   "source": [
    "2. soru\n",
    "Yaş ORDINAL KATEGORIK \n",
    "Maaş ORAN SUREKLI \n",
    "Gelir ORAN SUREKLI , NOMİNAL KATEGORIK \n",
    "Müşteri türü NOMİNAL KATEGORIK \n",
    "Hisse senedi fiyatı  SUREKLI"
   ]
  }
 ],
 "metadata": {
  "kernelspec": {
   "display_name": "Python 3",
   "language": "python",
   "name": "python3"
  },
  "language_info": {
   "codemirror_mode": {
    "name": "ipython",
    "version": 3
   },
   "file_extension": ".py",
   "mimetype": "text/x-python",
   "name": "python",
   "nbconvert_exporter": "python",
   "pygments_lexer": "ipython3",
   "version": "3.7.1"
  }
 },
 "nbformat": 4,
 "nbformat_minor": 2
}
