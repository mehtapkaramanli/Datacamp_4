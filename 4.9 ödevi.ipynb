{
 "cells": [
  {
   "cell_type": "markdown",
   "metadata": {},
   "source": [
    "1. soru atılan paranın agırlıgı, cevresel kosullar(ruzgar, yagmur, basınc, yerçekimi), atış şekli , atış şiddeti gibi mi\n",
    "zemin durumu"
   ]
  },
  {
   "cell_type": "markdown",
   "metadata": {},
   "source": [
    "2. soru- Açılıp izlenmeyen sayfalar, izlememe sebebi programdan cıkmak mı , yoksa arkasından baska birsey izliyor mu?\n",
    "uyelik esnasında en az ilgisini ceken konular"
   ]
  },
  {
   "cell_type": "code",
   "execution_count": null,
   "metadata": {},
   "outputs": [],
   "source": []
  }
 ],
 "metadata": {
  "kernelspec": {
   "display_name": "Python 3",
   "language": "python",
   "name": "python3"
  },
  "language_info": {
   "codemirror_mode": {
    "name": "ipython",
    "version": 3
   },
   "file_extension": ".py",
   "mimetype": "text/x-python",
   "name": "python",
   "nbconvert_exporter": "python",
   "pygments_lexer": "ipython3",
   "version": "3.7.1"
  }
 },
 "nbformat": 4,
 "nbformat_minor": 2
}
