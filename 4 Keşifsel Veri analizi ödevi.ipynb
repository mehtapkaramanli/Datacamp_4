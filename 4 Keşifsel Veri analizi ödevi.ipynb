{
 "cells": [
  {
   "cell_type": "markdown",
   "metadata": {},
   "source": [
    "1.veriye anlam kazandırarak  canladırmaktır\n",
    "2.a) \n",
    "*aldatıcı veri gelmesi--müşteriden gelen verinin bilincli doldurulup doldurulmamasına gore degerlendırmeye katılmasının anlamlı olup olmaması\n",
    "*eksik veri gelmesi\n",
    "*hatalı veri gelmesi\n",
    "*yeterli veri gelmemesi\n",
    "b) kontrolu kendı elimde tuttugum bir puanlama ve anketleme tarzıyla calısırdım. parametre olarak sectıgım soruları puanlama uzerınden anketlemelerını ısterdım.\n",
    "c) veriyi anlamlandırmaya calısırım. Belli parametreler belirlemeye calısarak algoritmik hale getırmeye calısırım. veriyi anlandırmada işe yarıyorsa yararlı veridir\n"
   ]
  }
 ],
 "metadata": {
  "kernelspec": {
   "display_name": "Python 3",
   "language": "python",
   "name": "python3"
  },
  "language_info": {
   "codemirror_mode": {
    "name": "ipython",
    "version": 3
   },
   "file_extension": ".py",
   "mimetype": "text/x-python",
   "name": "python",
   "nbconvert_exporter": "python",
   "pygments_lexer": "ipython3",
   "version": "3.7.1"
  }
 },
 "nbformat": 4,
 "nbformat_minor": 2
}
